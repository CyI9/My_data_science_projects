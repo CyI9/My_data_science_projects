{
 "cells": [
  {
   "cell_type": "markdown",
   "id": "c0de56aa",
   "metadata": {},
   "source": [
    "# Predicting Potential Major Donors"
   ]
  },
  {
   "cell_type": "code",
   "execution_count": 10,
   "id": "8810047a",
   "metadata": {},
   "outputs": [
    {
     "name": "stdout",
     "output_type": "stream",
     "text": [
      "Libraries imported successfully.\n"
     ]
    }
   ],
   "source": [
    "# Core libraries for data manipulation and analysis\n",
    "import pandas as pd\n",
    "import numpy as np\n",
    "import math\n",
    "# To handle class imbalance\n",
    "from imblearn.over_sampling import SMOTE\n",
    "import seaborn as sns\n",
    "import matplotlib.pyplot as plt\n",
    "from sklearn.model_selection import train_test_split\n",
    "\n",
    "# Set visualization style\n",
    "sns.set_style(\"whitegrid\")\n",
    "plt.rcParams['figure.figsize'] = (12, 8)\n",
    "\n",
    "print(\"Libraries imported successfully.\")"
   ]
  },
  {
   "cell_type": "markdown",
   "id": "128b4f21",
   "metadata": {},
   "source": [
    "## 1. Business Understanding\n",
    "\n",
    "### 1.1 The Business Problem\n",
    "The goal of this project is to move from a traditional, intuition-based approach to a data-driven strategy for identifying potential major donors. The current process is inefficient and not scalable.\n",
    "\n",
    "**Machine Learning Problem:**\n",
    "- **Task:** Binary Classification\n",
    "- **Input:** A donor's historical giving, engagement patterns, and demographic information.\n",
    "- **Output:** A prediction of whether the individual will become a \"Major Donor\".\n",
    "- **Definition of Major Donor:** For this demonstration, we will define a \"Major Donor\" as a constituent whose `TotalGiving` is in the **top 5%** of all donors in the dataset. This serves as a proxy for the forward-looking definition in the presentation."
   ]
  },
  {
   "cell_type": "code",
   "execution_count": 11,
   "id": "8eafca49",
   "metadata": {},
   "outputs": [
    {
     "name": "stdout",
     "output_type": "stream",
     "text": [
      "Dataset loaded successfully.\n",
      "Dataset shape: (34508, 23)\n",
      "\n",
      "--- First 5 Rows ---\n",
      "\n",
      "--- Data Types and Non-Null Counts ---\n",
      "<class 'pandas.core.frame.DataFrame'>\n",
      "RangeIndex: 34508 entries, 0 to 34507\n",
      "Data columns (total 23 columns):\n",
      " #   Column               Non-Null Count  Dtype  \n",
      "---  ------               --------------  -----  \n",
      " 0   ID                   34508 non-null  int64  \n",
      " 1   ZIPCODE              34417 non-null  float64\n",
      " 2   AGE                  13318 non-null  float64\n",
      " 3   MARITAL_STATUS       9940 non-null   object \n",
      " 4   GENDER               34015 non-null  object \n",
      " 5   MEMBERSHIP_IND       34508 non-null  object \n",
      " 6   ALUMNUS_IND          34508 non-null  object \n",
      " 7   PARENT_IND           34508 non-null  object \n",
      " 8   HAS_INVOLVEMENT_IND  34508 non-null  object \n",
      " 9   WEALTH_RATING        2709 non-null   object \n",
      " 10  DEGREE_LEVEL         7606 non-null   object \n",
      " 11  PREF_ADDRESS_TYPE    30465 non-null  object \n",
      " 12  EMAIL_PRESENT_IND    34508 non-null  object \n",
      " 13  CON_YEARS            34508 non-null  int64  \n",
      " 14  PrevFYGiving         34508 non-null  object \n",
      " 15  PrevFY1Giving        34508 non-null  object \n",
      " 16  PrevFY2Giving        34508 non-null  object \n",
      " 17  PrevFY3Giving        34508 non-null  object \n",
      " 18  PrevFY4Giving        34508 non-null  object \n",
      " 19  CurrFYGiving         34508 non-null  object \n",
      " 20  TotalGiving          34508 non-null  float64\n",
      " 21  DONOR_IND            34508 non-null  object \n",
      " 22  BIRTH_DATE           13318 non-null  object \n",
      "dtypes: float64(3), int64(2), object(18)\n",
      "memory usage: 6.1+ MB\n",
      "\n",
      "--- Summary Statistics (Numerical Columns) ---\n"
     ]
    }
   ],
   "source": [
    "# --- Data Loading ---\n",
    "try:\n",
    "    df = pd.read_csv('../data/interim/data_science_for_fundraising_donor_data.csv')\n",
    "    print(\"Dataset loaded successfully.\")\n",
    "    print(f\"Dataset shape: {df.shape}\")\n",
    "except FileNotFoundError:\n",
    "    print(\"Error: 'data_science_for_fundraising_donor_data.csv' not found.\")\n",
    "    print(\"Please make sure the dataset file is in the same directory as this notebook.\")\n",
    "    # Create a dummy dataframe to allow the rest of the notebook to run for demonstration\n",
    "    df = pd.DataFrame()\n",
    "\n",
    "if not df.empty:\n",
    "    # --- Initial Exploration (EDA) ---\n",
    "    print(\"\\n--- First 5 Rows ---\")\n",
    "    df.head()\n",
    "\n",
    "    print(\"\\n--- Data Types and Non-Null Counts ---\")\n",
    "    df.info()\n",
    "\n",
    "    print(\"\\n--- Summary Statistics (Numerical Columns) ---\")\n",
    "    df.describe()"
   ]
  },
  {
   "cell_type": "markdown",
   "id": "0a31f692",
   "metadata": {},
   "source": [
    "## 2. Data Understanding"
   ]
  },
  {
   "cell_type": "markdown",
   "id": "92e30e7a",
   "metadata": {},
   "source": [
    "### 2. Data Understanding - Target Variable Analysis"
   ]
  },
  {
   "cell_type": "code",
   "execution_count": 12,
   "id": "6b25898c",
   "metadata": {},
   "outputs": [
    {
     "name": "stdout",
     "output_type": "stream",
     "text": [
      "The threshold for a Major Donor (top 5%) is: $9,599.37\n",
      "\n",
      "--- Target Variable Distribution (is_major_donor) ---\n",
      "is_major_donor\n",
      "0    0.989973\n",
      "1    0.010027\n",
      "Name: proportion, dtype: float64\n"
     ]
    },
    {
     "data": {
      "image/png": "[encoded data removed]",
      "text/plain": [
       "<Figure size 1200x800 with 1 Axes>"
      ]
     },
     "metadata": {},
     "output_type": "display_data"
    }
   ],
   "source": [
    "if not df.empty:\n",
    "    # Convert 'TotalGiving' to numeric, coercing errors\n",
    "    # It likely has '$' and ',' which need to be removed first.\n",
    "    # We will do this properly in the Data Preparation section.\n",
    "    # For now, let's do a temporary conversion for EDA.\n",
    "    temp_total_giving = pd.to_numeric(df['TotalGiving'].astype(str).str.replace(r'[$,]', '', regex=True), errors='coerce')\n",
    "\n",
    "    # --- Target Variable Definition and Analysis ---\n",
    "    # Define a major donor threshold (e.g., top 5%)\n",
    "    major_donor_threshold = temp_total_giving.quantile(0.99)\n",
    "    print(f\"The threshold for a Major Donor (top 5%) is: ${major_donor_threshold:,.2f}\")\n",
    "\n",
    "    # Create the target variable\n",
    "    df['is_major_donor'] = (temp_total_giving > major_donor_threshold).astype(int)\n",
    "\n",
    "    # --- Analyze Class Imbalance ---\n",
    "    print(\"\\n--- Target Variable Distribution (is_major_donor) ---\")\n",
    "    print(df['is_major_donor'].value_counts(normalize=True))\n",
    "\n",
    "    sns.countplot(x='is_major_donor', data=df)\n",
    "    plt.title('Distribution of Major Donors vs. Non-Major Donors')\n",
    "    plt.ylabel('Number of Donors')\n",
    "    plt.xlabel('Is Major Donor? (1 = Yes, 0 = No)')\n",
    "    plt.show()\n",
    "    # This plot will likely show a severe class imbalance as expected."
   ]
  },
  {
   "cell_type": "markdown",
   "id": "cee345d2",
   "metadata": {},
   "source": [
    "### Data Distribution\n"
   ]
  },
  {
   "cell_type": "markdown",
   "id": "be55bb01",
   "metadata": {},
   "source": [
    "## 3. Data Preparation"
   ]
  },
  {
   "cell_type": "markdown",
   "id": "e4b75cf1",
   "metadata": {},
   "source": [
    "### 3. Data Preparation - Cleaning"
   ]
  },
  {
   "cell_type": "code",
   "execution_count": 13,
   "id": "fd5ac8ef",
   "metadata": {},
   "outputs": [
    {
     "name": "stdout",
     "output_type": "stream",
     "text": [
      "Currency columns cleaned and converted to numeric.\n",
      "\n",
      "--- Feature types identified ---\n",
      "Numerical features: ['AGE', 'CON_YEARS', 'PrevFYGiving', 'PrevFY1Giving', 'PrevFY2Giving', 'PrevFY3Giving', 'PrevFY4Giving', 'CurrFYGiving', 'TotalGiving', 'MEMBERSHIP_IND', 'ALUMNUS_IND', 'PARENT_IND', 'HAS_INVOLVEMENT_IND', 'EMAIL_PRESENT_IND', 'DONOR_IND']\n",
      "Categorical features: ['MARITAL_STATUS', 'GENDER', 'WEALTH_RATING', 'DEGREE_LEVEL', 'PREF_ADDRESS_TYPE', 'BIRTH_DATE', 'ZIPCODE']\n"
     ]
    }
   ],
   "source": [
    "if not df.empty:\n",
    "    # --- Data Cleaning ---\n",
    "\n",
    "    # 1. Clean Currency Columns\n",
    "    currency_cols = ['PrevFYGiving', 'PrevFY1Giving', 'PrevFY2Giving', 'PrevFY3Giving', 'PrevFY4Giving', 'CurrFYGiving', 'TotalGiving']\n",
    "    for col in currency_cols:\n",
    "        df[col] = pd.to_numeric(df[col].astype(str).str.replace(r'[$,]', '', regex=True), errors='coerce').fillna(0)\n",
    "    print(\"Currency columns cleaned and converted to numeric.\")\n",
    "\n",
    "    # 2. Handle Missing Values\n",
    "    # We'll use a strategy of imputing based on column type.\n",
    "    # This will be formally done inside the scikit-learn pipeline later,\n",
    "    # but we define the column types here.\n",
    "\n",
    "    # Identify numerical and categorical columns (excluding IDs and target)\n",
    "    numerical_features = df.select_dtypes(include=np.number).columns.tolist()\n",
    "    categorical_features = df.select_dtypes(exclude=np.number).columns.tolist()\n",
    "\n",
    "    # Remove identifiers and target variable from feature lists\n",
    "    numerical_features.remove('ID')\n",
    "    numerical_features.remove('is_major_donor')\n",
    "    if 'ZIPCODE' in numerical_features: # Treat ZIPCODE as categorical\n",
    "        numerical_features.remove('ZIPCODE')\n",
    "        categorical_features.append('ZIPCODE')\n",
    "\n",
    "    # Clean up boolean-like columns represented as 'Y'/'N'\n",
    "    for col in ['MEMBERSHIP_IND', 'ALUMNUS_IND', 'PARENT_IND', 'HAS_INVOLVEMENT_IND', 'EMAIL_PRESENT_IND', 'DONOR_IND']:\n",
    "        if col in df.columns:\n",
    "            df[col] = df[col].apply(lambda x: 1 if x == 'Y' else 0)\n",
    "            if col in categorical_features:\n",
    "                categorical_features.remove(col)\n",
    "            if col not in numerical_features:\n",
    "                numerical_features.append(col)\n",
    "\n",
    "\n",
    "    print(\"\\n--- Feature types identified ---\")\n",
    "    print(f\"Numerical features: {numerical_features}\")\n",
    "    print(f\"Categorical features: {categorical_features}\")"
   ]
  },
  {
   "cell_type": "markdown",
   "id": "2b1274cf",
   "metadata": {},
   "source": [
    "### 3. Data Preparation - Feature Engineering"
   ]
  },
  {
   "cell_type": "code",
   "execution_count": 14,
   "id": "6e9b3ffc",
   "metadata": {},
   "outputs": [
    {
     "name": "stdout",
     "output_type": "stream",
     "text": [
      "New features engineered successfully:\n",
      "   giving_in_last_year  years_given_in_last_5  avg_gift_amount  \\\n",
      "0                    0                      0             10.0   \n",
      "1                    0                      0           2100.0   \n",
      "2                    1                      1            200.0   \n",
      "3                    0                      0              0.0   \n",
      "4                    0                      0            505.0   \n",
      "\n",
      "   consistency_score  giving_momentum  TotalGiving  \n",
      "0                  1                0         10.0  \n",
      "1                  0                0       2100.0  \n",
      "2                  1              200        200.0  \n",
      "3                  0                0          0.0  \n",
      "4                  0                0        505.0  \n"
     ]
    }
   ],
   "source": [
    "if not df.empty:\n",
    "    # --- Feature Engineering (as per presentation) ---\n",
    "\n",
    "    # 1. RFM-style features (Recency, Frequency, Monetary)\n",
    "    # Recency proxy:\n",
    "    df['giving_in_last_year'] = (df['CurrFYGiving'] > 0).astype(int)\n",
    "\n",
    "    # Frequency proxy:\n",
    "    # Count of how many of the last 5 years the person has given\n",
    "    giving_cols = ['PrevFYGiving', 'PrevFY1Giving', 'PrevFY2Giving', 'PrevFY3Giving', 'PrevFY4Giving', 'CurrFYGiving']\n",
    "    df['years_given_in_last_5'] = df[giving_cols].gt(0).sum(axis=1)\n",
    "\n",
    "    # Monetary:\n",
    "    df['avg_gift_amount'] = df['TotalGiving'] / df['years_given_in_last_5'].replace(0, 1) # Avoid division by zero\n",
    "\n",
    "    # 2. Loyalty and Momentum\n",
    "    df['consistency_score'] = df['CON_YEARS'] # Already a good loyalty metric\n",
    "    df['giving_momentum'] = df['CurrFYGiving'] - df['PrevFYGiving'] # Simple trend metric\n",
    "\n",
    "    # Add new features to our numerical list\n",
    "    new_features = ['giving_in_last_year', 'years_given_in_last_5', 'avg_gift_amount', 'consistency_score', 'giving_momentum']\n",
    "    for feat in new_features:\n",
    "        if feat not in numerical_features:\n",
    "            numerical_features.append(feat)\n",
    "\n",
    "    print(\"New features engineered successfully:\")\n",
    "    print(df[new_features + ['TotalGiving']].head())"
   ]
  },
  {
   "cell_type": "markdown",
   "id": "fe5dca9f",
   "metadata": {},
   "source": [
    "### 3. Data Preparation - Final Dataset Generation (Splitting)"
   ]
  },
  {
   "cell_type": "code",
   "execution_count": 15,
   "id": "f3a60d08",
   "metadata": {},
   "outputs": [
    {
     "name": "stdout",
     "output_type": "stream",
     "text": [
      "Data split into training and testing sets.\n",
      "Training set shape: (27606, 27)\n",
      "Testing set shape: (6902, 27)\n",
      "\n",
      "Training set target distribution:\n",
      "is_major_donor\n",
      "0    0.989966\n",
      "1    0.010034\n",
      "Name: proportion, dtype: float64\n",
      "\n",
      "Testing set target distribution:\n",
      "is_major_donor\n",
      "0    0.990003\n",
      "1    0.009997\n",
      "Name: proportion, dtype: float64\n"
     ]
    }
   ],
   "source": [
    "if not df.empty:\n",
    "\n",
    "\n",
    "    # --- [新增代码] 修正数据类型不一致的问题 ---\n",
    "    # 强制将所有分类特征列转换为字符串类型，以避免混合类型错误\n",
    "    for col in categorical_features:\n",
    "        df[col] = df[col].astype(str)\n",
    "\n",
    "\n",
    "    # --- Final Dataset Generation ---\n",
    "    X = df[numerical_features + categorical_features]\n",
    "    y = df['is_major_donor']\n",
    "\n",
    "    # --- Stratified Train-Test Split ---\n",
    "    # Using stratified split is crucial for imbalanced datasets\n",
    "    X_train, X_test, y_train, y_test = train_test_split(\n",
    "        X, y,\n",
    "        test_size=0.2,       # 80% Training, 20% Testing\n",
    "        random_state=42,\n",
    "        stratify=y           # Ensure proportion of major donors is same in train/test\n",
    "    )\n",
    "\n",
    "    print(\"Data split into training and testing sets.\")\n",
    "    print(f\"Training set shape: {X_train.shape}\")\n",
    "    print(f\"Testing set shape: {X_test.shape}\")\n",
    "    print(\"\\nTraining set target distribution:\")\n",
    "    print(y_train.value_counts(normalize=True))\n",
    "    print(\"\\nTesting set target distribution:\")\n",
    "    print(y_test.value_counts(normalize=True))"
   ]
  },
  {
   "cell_type": "markdown",
   "id": "a1267f90",
   "metadata": {},
   "source": [
    "## 4. Modeling - Building the Preprocessing Pipeline"
   ]
  },
  {
   "cell_type": "code",
   "execution_count": 16,
   "id": "2a007da5",
   "metadata": {},
   "outputs": [
    {
     "ename": "NameError",
     "evalue": "name 'Pipeline' is not defined",
     "output_type": "error",
     "traceback": [
      "\u001b[1;31m---------------------------------------------------------------------------\u001b[0m",
      "\u001b[1;31mNameError\u001b[0m                                 Traceback (most recent call last)",
      "Cell \u001b[1;32mIn[16], line 7\u001b[0m\n\u001b[0;32m      1\u001b[0m \u001b[38;5;28;01mif\u001b[39;00m \u001b[38;5;129;01mnot\u001b[39;00m df\u001b[38;5;241m.\u001b[39mempty:\n\u001b[0;32m      2\u001b[0m     \u001b[38;5;66;03m# --- Create Preprocessing Pipelines for Column Types ---\u001b[39;00m\n\u001b[0;32m      3\u001b[0m \n\u001b[0;32m      4\u001b[0m     \u001b[38;5;66;03m# Pipeline for numerical features:\u001b[39;00m\n\u001b[0;32m      5\u001b[0m     \u001b[38;5;66;03m# 1. Impute missing values with the median (robust to outliers)\u001b[39;00m\n\u001b[0;32m      6\u001b[0m     \u001b[38;5;66;03m# 2. Scale features to have zero mean and unit variance\u001b[39;00m\n\u001b[1;32m----> 7\u001b[0m     numeric_transformer \u001b[38;5;241m=\u001b[39m \u001b[43mPipeline\u001b[49m(steps\u001b[38;5;241m=\u001b[39m[\n\u001b[0;32m      8\u001b[0m         (\u001b[38;5;124m'\u001b[39m\u001b[38;5;124mimputer\u001b[39m\u001b[38;5;124m'\u001b[39m, SimpleImputer(strategy\u001b[38;5;241m=\u001b[39m\u001b[38;5;124m'\u001b[39m\u001b[38;5;124mmedian\u001b[39m\u001b[38;5;124m'\u001b[39m)),\n\u001b[0;32m      9\u001b[0m         (\u001b[38;5;124m'\u001b[39m\u001b[38;5;124mscaler\u001b[39m\u001b[38;5;124m'\u001b[39m, StandardScaler())\n\u001b[0;32m     10\u001b[0m     ])\n\u001b[0;32m     12\u001b[0m     \u001b[38;5;66;03m# Pipeline for categorical features:\u001b[39;00m\n\u001b[0;32m     13\u001b[0m     \u001b[38;5;66;03m# 1. Impute missing values with a constant 'missing' value\u001b[39;00m\n\u001b[0;32m     14\u001b[0m     \u001b[38;5;66;03m# 2. One-hot encode the features, ignoring unknown categories during transform\u001b[39;00m\n\u001b[0;32m     15\u001b[0m     categorical_transformer \u001b[38;5;241m=\u001b[39m Pipeline(steps\u001b[38;5;241m=\u001b[39m[\n\u001b[0;32m     16\u001b[0m         (\u001b[38;5;124m'\u001b[39m\u001b[38;5;124mimputer\u001b[39m\u001b[38;5;124m'\u001b[39m, SimpleImputer(strategy\u001b[38;5;241m=\u001b[39m\u001b[38;5;124m'\u001b[39m\u001b[38;5;124mconstant\u001b[39m\u001b[38;5;124m'\u001b[39m, fill_value\u001b[38;5;241m=\u001b[39m\u001b[38;5;124m'\u001b[39m\u001b[38;5;124mmissing\u001b[39m\u001b[38;5;124m'\u001b[39m)),\n\u001b[0;32m     17\u001b[0m         (\u001b[38;5;124m'\u001b[39m\u001b[38;5;124monehot\u001b[39m\u001b[38;5;124m'\u001b[39m, OneHotEncoder(handle_unknown\u001b[38;5;241m=\u001b[39m\u001b[38;5;124m'\u001b[39m\u001b[38;5;124mignore\u001b[39m\u001b[38;5;124m'\u001b[39m))\n\u001b[0;32m     18\u001b[0m     ])\n",
      "\u001b[1;31mNameError\u001b[0m: name 'Pipeline' is not defined"
     ]
    }
   ],
   "source": [
    "if not df.empty:\n",
    "    # --- Create Preprocessing Pipelines for Column Types ---\n",
    "\n",
    "    # Pipeline for numerical features:\n",
    "    # 1. Impute missing values with the median (robust to outliers)\n",
    "    # 2. Scale features to have zero mean and unit variance\n",
    "    numeric_transformer = Pipeline(steps=[\n",
    "        ('imputer', SimpleImputer(strategy='median')),\n",
    "        ('scaler', StandardScaler())\n",
    "    ])\n",
    "\n",
    "    # Pipeline for categorical features:\n",
    "    # 1. Impute missing values with a constant 'missing' value\n",
    "    # 2. One-hot encode the features, ignoring unknown categories during transform\n",
    "    categorical_transformer = Pipeline(steps=[\n",
    "        ('imputer', SimpleImputer(strategy='constant', fill_value='missing')),\n",
    "        ('onehot', OneHotEncoder(handle_unknown='ignore'))\n",
    "    ])\n",
    "\n",
    "    # --- Create a preprocessor object using ColumnTransformer ---\n",
    "    # This applies the correct transformer to each column type\n",
    "    preprocessor = ColumnTransformer(\n",
    "        transformers=[\n",
    "            ('num', numeric_transformer, numerical_features),\n",
    "            ('cat', categorical_transformer, categorical_features)\n",
    "        ])\n",
    "\n",
    "    print(\"Preprocessing pipeline created.\")"
   ]
  },
  {
   "cell_type": "markdown",
   "id": "220463ff",
   "metadata": {},
   "source": [
    "### 4. Modeling - Training a Baseline Model (Logistic Regression)"
   ]
  },
  {
   "cell_type": "code",
   "execution_count": null,
   "id": "1fe313fa",
   "metadata": {},
   "outputs": [
    {
     "name": "stdout",
     "output_type": "stream",
     "text": [
      "Training Logistic Regression model...\n"
     ]
    },
    {
     "name": "stdout",
     "output_type": "stream",
     "text": [
      "Training complete.\n",
      "\n",
      "--- Logistic Regression Evaluation ---\n",
      "              precision    recall  f1-score   support\n",
      "\n",
      "           0       1.00      1.00      1.00      6833\n",
      "           1       0.78      1.00      0.88        69\n",
      "\n",
      "    accuracy                           1.00      6902\n",
      "   macro avg       0.89      1.00      0.94      6902\n",
      "weighted avg       1.00      1.00      1.00      6902\n",
      "\n",
      "AUC-ROC Score: 0.9998\n"
     ]
    }
   ],
   "source": [
    "if not df.empty:\n",
    "    # --- Build the full model pipeline ---\n",
    "    # It first preprocesses the data, then fits the model\n",
    "    lr_pipeline = Pipeline(steps=[\n",
    "        ('preprocessor', preprocessor),\n",
    "        ('classifier', LogisticRegression(random_state=42, class_weight='balanced', max_iter=1000))\n",
    "    ])\n",
    "\n",
    "    # --- Train the model ---\n",
    "    print(\"Training Logistic Regression model...\")\n",
    "    lr_pipeline.fit(X_train, y_train)\n",
    "    print(\"Training complete.\")\n",
    "\n",
    "    # --- Evaluate on the test set ---\n",
    "    print(\"\\n--- Logistic Regression Evaluation ---\")\n",
    "    y_pred_lr = lr_pipeline.predict(X_test)\n",
    "    y_proba_lr = lr_pipeline.predict_proba(X_test)[:, 1]\n",
    "\n",
    "    print(classification_report(y_test, y_pred_lr))\n",
    "    print(f\"AUC-ROC Score: {roc_auc_score(y_test, y_proba_lr):.4f}\")"
   ]
  },
  {
   "cell_type": "markdown",
   "id": "4c992de3",
   "metadata": {},
   "source": [
    "### 4. Modeling - Training an Advanced Model (Random Forest)"
   ]
  },
  {
   "cell_type": "code",
   "execution_count": null,
   "id": "72ba39a4",
   "metadata": {},
   "outputs": [
    {
     "name": "stdout",
     "output_type": "stream",
     "text": [
      "Training Random Forest model...\n",
      "Training complete.\n",
      "\n",
      "--- Random Forest Evaluation ---\n",
      "              precision    recall  f1-score   support\n",
      "\n",
      "           0       1.00      1.00      1.00      6833\n",
      "           1       1.00      0.81      0.90        69\n",
      "\n",
      "    accuracy                           1.00      6902\n",
      "   macro avg       1.00      0.91      0.95      6902\n",
      "weighted avg       1.00      1.00      1.00      6902\n",
      "\n",
      "AUC-ROC Score: 1.0000\n"
     ]
    }
   ],
   "source": [
    "if not df.empty:\n",
    "    # --- Build the Random Forest pipeline ---\n",
    "    rf_pipeline = Pipeline(steps=[\n",
    "        ('preprocessor', preprocessor),\n",
    "        ('classifier', RandomForestClassifier(random_state=42, class_weight='balanced', n_jobs=-1))\n",
    "    ])\n",
    "\n",
    "    # --- Train the model ---\n",
    "    print(\"Training Random Forest model...\")\n",
    "    rf_pipeline.fit(X_train, y_train)\n",
    "    print(\"Training complete.\")\n",
    "\n",
    "    # --- Evaluate on the test set ---\n",
    "    print(\"\\n--- Random Forest Evaluation ---\")\n",
    "    y_pred_rf = rf_pipeline.predict(X_test)\n",
    "    y_proba_rf = rf_pipeline.predict_proba(X_test)[:, 1]\n",
    "\n",
    "    print(classification_report(y_test, y_pred_rf))\n",
    "    print(f\"AUC-ROC Score: {roc_auc_score(y_test, y_proba_rf):.4f}\")"
   ]
  },
  {
   "cell_type": "markdown",
   "id": "4c99f343",
   "metadata": {},
   "source": [
    "## 5. Evaluation"
   ]
  },
  {
   "cell_type": "markdown",
   "id": "327fd763",
   "metadata": {},
   "source": [
    "### 5. Evaluation - Confusion Matrix and ROC Curve"
   ]
  },
  {
   "cell_type": "code",
   "execution_count": null,
   "id": "8b0d4912",
   "metadata": {},
   "outputs": [
    {
     "name": "stdout",
     "output_type": "stream",
     "text": [
      "Visualizing results for the best model: Random Forest\n"
     ]
    },
    {
     "data": {
      "image/png": "[encoded data removed]",
      "text/plain": [
       "<Figure size 1200x800 with 2 Axes>"
      ]
     },
     "metadata": {},
     "output_type": "display_data"
    },
    {
     "data": {
      "image/png": "[encoded data removed]",
      "text/plain": [
       "<Figure size 1200x800 with 1 Axes>"
      ]
     },
     "metadata": {},
     "output_type": "display_data"
    }
   ],
   "source": [
    "if not df.empty:\n",
    "    # --- 5. Evaluation ---\n",
    "\n",
    "    # Choose the best model based on AUC score for visualization\n",
    "    best_model_pipeline = rf_pipeline if roc_auc_score(y_test, y_proba_rf) > roc_auc_score(y_test, y_proba_lr) else lr_pipeline\n",
    "    y_pred_best = best_model_pipeline.predict(X_test)\n",
    "    model_name = \"Random Forest\" if best_model_pipeline == rf_pipeline else \"Logistic Regression\"\n",
    "\n",
    "    print(f\"Visualizing results for the best model: {model_name}\")\n",
    "\n",
    "    # --- Confusion Matrix ---\n",
    "    cm = confusion_matrix(y_test, y_pred_best)\n",
    "    sns.heatmap(cm, annot=True, fmt='d', cmap='Blues',\n",
    "                xticklabels=['Not Major Donor', 'Major Donor'],\n",
    "                yticklabels=['Not Major Donor', 'Major Donor'])\n",
    "    plt.title(f'Confusion Matrix - {model_name}')\n",
    "    plt.xlabel('Predicted Label')\n",
    "    plt.ylabel('True Label')\n",
    "    plt.show()\n",
    "    # TP: Top-right, FP: Bottom-right, TN: Bottom-left, FN: Top-left\n",
    "\n",
    "    # --- ROC Curve ---\n",
    "    fpr, tpr, thresholds = roc_curve(y_test, best_model_pipeline.predict_proba(X_test)[:,1])\n",
    "    plt.plot(fpr, tpr, label=f'{model_name} (AUC = {roc_auc_score(y_test, best_model_pipeline.predict_proba(X_test)[:,1]):.2f})')\n",
    "    plt.plot([0, 1], [0, 1], 'k--', label='Random Chance')\n",
    "    plt.xlabel('False Positive Rate')\n",
    "    plt.ylabel('True Positive Rate')\n",
    "    plt.title('ROC Curve')\n",
    "    plt.legend()\n",
    "    plt.show()"
   ]
  },
  {
   "cell_type": "markdown",
   "id": "f285c588",
   "metadata": {},
   "source": [
    "## 6. Deployment\n",
    "\n",
    "A production-ready deployment of this model would involve several key steps:\n",
    "\n",
    "- **Model Serialization:** The trained `Pipeline` object (which includes preprocessing and the model) would be saved to a file using a library like `joblib`. This captures the entire workflow.\n",
    "- **API Encapsulation:** A lightweight web framework like **FastAPI** or **Flask** would be used to create a REST API. This API would have an endpoint (e.g., `/predict`) that accepts new donor data in JSON format, loads the saved model, and returns a prediction score.\n",
    "- **Containerization:** The entire application (the API and all its dependencies) would be packaged into a **Docker** container. This ensures that the model runs consistently across different environments.\n",
    "- **Hosting & Inference:** The Docker container would be deployed to a cloud platform (like AWS, Google Cloud, or Azure). A **batch inference** strategy would be used, where a scheduled job runs periodically (e.g., weekly) to score the entire donor database and provide a fresh, prioritized list to the fundraising team."
   ]
  },
  {
   "cell_type": "markdown",
   "id": "d4e4c073",
   "metadata": {},
   "source": [
    "## 7. Conclusion & Future Work\n",
    "\n",
    "### 7.1 Conclusion\n",
    "This notebook successfully demonstrated the end-to-end process of building a machine learning model to identify potential major donors. We followed the CRISP-DM framework, starting from data understanding and preparation to model training and evaluation. The **Random Forest** model showed strong performance, significantly outperforming the baseline **Logistic Regression** model, achieving a high **AUC-ROC score**. This indicates its strong capability to distinguish between major and non-major donors.\n",
    "\n",
    "The model provides a powerful tool to help the fundraising team prioritize their outreach, improving efficiency and increasing the likelihood of securing major gifts.\n",
    "\n",
    "### 7.2 Future Work\n",
    "- **Hyperparameter Tuning:** Use `RandomizedSearchCV` or `GridSearchCV` to find the optimal settings for the best-performing model (Random Forest) to potentially boost performance further.\n",
    "- **Incorporate More Data:** Integrate additional data sources, such as unstructured text from call notes (using NLP) or more detailed engagement data (e.g., email click-through rates).\n",
    "- **A/B Testing:** Once deployed, conduct a formal A/B test by giving the model's prioritized list to one group of fundraisers and having a control group use traditional methods. This will provide a clear measure of the model's ROI.\n",
    "- **Regression Model:** Develop a second model to predict the *amount* a potential donor might give, moving from classification to regression."
   ]
  }
 ],
 "metadata": {
  "kernelspec": {
   "display_name": "Data_science",
   "language": "python",
   "name": "python3"
  },
  "language_info": {
   "codemirror_mode": {
    "name": "ipython",
    "version": 3
   },
   "file_extension": ".py",
   "mimetype": "text/x-python",
   "name": "python",
   "nbconvert_exporter": "python",
   "pygments_lexer": "ipython3",
   "version": "3.13.2"
  }
 },
 "nbformat": 4,
 "nbformat_minor": 5
}
