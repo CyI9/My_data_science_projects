{
 "cells": [
  {
   "cell_type": "markdown",
   "id": "f6a67e89",
   "metadata": {},
   "source": [
    "# **Conceptual predict model of fundraising**"
   ]
  },
  {
   "cell_type": "markdown",
   "id": "a944b4f9",
   "metadata": {},
   "source": [
    "```mermaid\n",
    "---\n",
    "look: handDrawn\n",
    "theme: neutral\n",
    "---\n",
    "flowchart LR\n",
    "\n",
    "\n",
    "data[Table]\n",
    "\n",
    "```"
   ]
  }
 ],
 "metadata": {
  "kernelspec": {
   "display_name": "Data_science",
   "language": "python",
   "name": "python3"
  },
  "language_info": {
   "name": "python",
   "version": "3.13.2"
  }
 },
 "nbformat": 4,
 "nbformat_minor": 5
}
