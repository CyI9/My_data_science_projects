{
 "cells": [
  {
   "cell_type": "markdown",
   "id": "ff16691b",
   "metadata": {
    "papermill": {
     "duration": 0.002196,
     "end_time": "2025-07-16T17:12:27.402468",
     "exception": false,
     "start_time": "2025-07-16T17:12:27.400272",
     "status": "completed"
    },
    "tags": []
   },
   "source": [
    "This notebook code illustrates how to calculate the targets for the MITSUI&CO. Commodity Prediction Challenge from the (lagged) train or test features."
   ]
  },
  {
   "cell_type": "code",
   "execution_count": 1,
   "id": "b089baa1",
   "metadata": {
    "_cell_guid": "b2b824bd-8964-4401-83a0-55784a0983c7",
    "_uuid": "0386e0a8-589b-4c7a-a717-feadacb9b39f",
    "collapsed": false,
    "execution": {
     "iopub.execute_input": "2025-07-16T17:12:27.407190Z",
     "iopub.status.busy": "2025-07-16T17:12:27.406874Z",
     "iopub.status.idle": "2025-07-16T17:12:29.484971Z",
     "shell.execute_reply": "2025-07-16T17:12:29.483893Z"
    },
    "jupyter": {
     "outputs_hidden": false
    },
    "papermill": {
     "duration": 2.082452,
     "end_time": "2025-07-16T17:12:29.486741",
     "exception": false,
     "start_time": "2025-07-16T17:12:27.404289",
     "status": "completed"
    },
    "tags": []
   },
   "outputs": [],
   "source": [
    "import warnings\n",
    "\n",
    "import numpy as np\n",
    "import pandas as pd\n",
    "\n",
    "\n",
    "def generate_log_returns(data, lag):\n",
    "    log_returns = pd.Series(np.nan, index=data.index)\n",
    "\n",
    "    # Compute log returns based on the rules\n",
    "    for t in range(len(data)):\n",
    "        with warnings.catch_warnings():\n",
    "            warnings.simplefilter('ignore')\n",
    "            try:\n",
    "                log_returns.iloc[t] = np.log(data.iloc[t + lag + 1] / data.iloc[t + 1])\n",
    "            except Exception:\n",
    "                log_returns.iloc[t] = np.nan\n",
    "    return log_returns\n",
    "\n",
    "\n",
    "def generate_targets(column_a: pd.Series, column_b: pd.Series, lag: int) -> pd.Series:\n",
    "    a_returns = generate_log_returns(column_a, lag)\n",
    "    b_returns = generate_log_returns(column_b, lag)\n",
    "    return a_returns - b_returns"
   ]
  },
  {
   "cell_type": "markdown",
   "id": "7f5f7c1c",
   "metadata": {
    "execution": {
     "iopub.execute_input": "2025-07-14T22:52:31.410646Z",
     "iopub.status.busy": "2025-07-14T22:52:31.410353Z",
     "iopub.status.idle": "2025-07-14T22:52:31.422456Z",
     "shell.execute_reply": "2025-07-14T22:52:31.421004Z",
     "shell.execute_reply.started": "2025-07-14T22:52:31.410615Z"
    },
    "papermill": {
     "duration": 0.001401,
     "end_time": "2025-07-16T17:12:29.490041",
     "exception": false,
     "start_time": "2025-07-16T17:12:29.488640",
     "status": "completed"
    },
    "tags": []
   },
   "source": [
    "For example, to calculate target ID 423 for the train set you would call:\n",
    "\n",
    "    generate_targets(train['LME_CA_Close'], train['US_Stock_CCJ_adj_close'], 4)"
   ]
  },
  {
   "cell_type": "code",
   "execution_count": null,
   "id": "c8e5b878",
   "metadata": {
    "papermill": {
     "duration": 0.001192,
     "end_time": "2025-07-16T17:12:29.492792",
     "exception": false,
     "start_time": "2025-07-16T17:12:29.491600",
     "status": "completed"
    },
    "tags": []
   },
   "outputs": [],
   "source": []
  }
 ],
 "metadata": {
  "kaggle": {
   "accelerator": "none",
   "dataSources": [
    {
     "databundleVersionId": 13044405,
     "sourceId": 94771,
     "sourceType": "competition"
    }
   ],
   "dockerImageVersionId": 31089,
   "isGpuEnabled": false,
   "isInternetEnabled": false,
   "language": "python",
   "sourceType": "notebook"
  },
  "kernelspec": {
   "display_name": "Python 3",
   "language": "python",
   "name": "python3"
  },
  "language_info": {
   "codemirror_mode": {
    "name": "ipython",
    "version": 3
   },
   "file_extension": ".py",
   "mimetype": "text/x-python",
   "name": "python",
   "nbconvert_exporter": "python",
   "pygments_lexer": "ipython3",
   "version": "3.11.13"
  },
  "papermill": {
   "default_parameters": {},
   "duration": 7.665574,
   "end_time": "2025-07-16T17:12:30.015135",
   "environment_variables": {},
   "exception": null,
   "input_path": "__notebook__.ipynb",
   "output_path": "__notebook__.ipynb",
   "parameters": {},
   "start_time": "2025-07-16T17:12:22.349561",
   "version": "2.6.0"
  }
 },
 "nbformat": 4,
 "nbformat_minor": 5
}
